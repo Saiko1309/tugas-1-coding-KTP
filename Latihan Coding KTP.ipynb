{
 "cells": [
  {
   "cell_type": "code",
   "execution_count": null,
   "id": "a5503e8a",
   "metadata": {},
   "outputs": [],
   "source": [
    "nama = \"Muhammad Yudistira\"\n",
    "tempatlahir= \"SEBUBUS,\"\n",
    "tanggallahir = \"13-02-2002\"\n",
    "jeniskelamin = \"LAKI-LAKI\"\n",
    "golongandarah = \"O\"\n",
    "alamat = \"Jl. Raya Merbau\"\n",
    "rt = \"003/\"\n",
    "rw = \"009\"\n",
    "keldesa = \"SEBUBUS\"\n",
    "kecamatan = \"PALOH\"\n",
    "agama = \"Islam\"\n",
    "status = True\n",
    "Pekerjaan = True\n",
    "wargaN = \"WNI\"\n",
    "masa = \"SEUMUR HIDUP\"\n",
    "\n",
    "\n",
    "\n",
    "print(\"PROVINSI KALIMANTAN \\n KOTA PONTIANAK \\n\\n\")\n",
    "print(\"NIK = 6101081302020004 \\n\")\n",
    "print(\"Nama              : \", nama)\n",
    "print(\"Tempat/Tgl Lahir  : \", tempatlahir, tanggallahir)\n",
    "print(\"Jenis Kelamin     : \", jeniskelamin, \"          Gol Darah : \", golongandarah)\n",
    "print(\"     RT/RW        : \", rt, rw)\n",
    "print(\"     Kel/Desa     : \", keldesa)\n",
    "print(\"     Kecamatan    : \", kecamatan)\n",
    "print(\"Agama             : \", agama)\n",
    "if(status):\n",
    "    print(\"Status  :  BELUM KAWIN\")\n",
    "else:\n",
    "    print(\"Status  :  MENIKAH\")\n",
    "    \n",
    "if(Pekerjaan):\n",
    "    print(\"Pekerjaan         :  BELUM BEKERJA\")\n",
    "else:\n",
    "    print(\"Pekerjaan         :  SUDAH BEKERJA\")\n",
    "\n",
    "print(\"Kewarganegaraan   : \", wargaN)\n",
    "print(\"Berlaku Hingga    : \", masa)\n"
   ]
  }
 ],
 "metadata": {
  "kernelspec": {
   "display_name": "Python 3",
   "language": "python",
   "name": "python3"
  },
  "language_info": {
   "codemirror_mode": {
    "name": "ipython",
    "version": 3
   },
   "file_extension": ".py",
   "mimetype": "text/x-python",
   "name": "python",
   "nbconvert_exporter": "python",
   "pygments_lexer": "ipython3",
   "version": "3.8.8"
  }
 },
 "nbformat": 4,
 "nbformat_minor": 5
}
